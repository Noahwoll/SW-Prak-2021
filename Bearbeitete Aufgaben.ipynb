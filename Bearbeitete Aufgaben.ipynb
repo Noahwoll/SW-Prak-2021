{
 "cells": [
  {
   "cell_type": "markdown",
   "id": "21485a54",
   "metadata": {},
   "source": [
    "### Blatt 1"
   ]
  },
  {
   "cell_type": "markdown",
   "id": "b61886d9",
   "metadata": {},
   "source": [
    "Aufgabe 1"
   ]
  },
  {
   "cell_type": "code",
   "execution_count": 14,
   "id": "40ba2fab",
   "metadata": {},
   "outputs": [
    {
     "name": "stdout",
     "output_type": "stream",
     "text": [
      "942.4777960769379\n"
     ]
    }
   ],
   "source": [
    "from numpy import pi\n",
    "hoehe = 12\n",
    "radius = 5\n",
    "volumen_Z = radius**2*pi*hoehe\n",
    "print(volumen_Z)"
   ]
  },
  {
   "cell_type": "markdown",
   "id": "ff811be2",
   "metadata": {},
   "source": [
    "Aufgabe 2"
   ]
  },
  {
   "cell_type": "code",
   "execution_count": 16,
   "id": "12362b01",
   "metadata": {},
   "outputs": [
    {
     "name": "stdout",
     "output_type": "stream",
     "text": [
      "12756.274100083478\n"
     ]
    }
   ],
   "source": [
    "erdumfang = 40075.017\n",
    "durchmesser = erdumfang / pi \n",
    "print(durchmesser)"
   ]
  },
  {
   "cell_type": "markdown",
   "id": "ef753f34",
   "metadata": {},
   "source": [
    "Aufgabe 3"
   ]
  },
  {
   "cell_type": "code",
   "execution_count": 23,
   "id": "6615a3ec",
   "metadata": {},
   "outputs": [
    {
     "name": "stdout",
     "output_type": "stream",
     "text": [
      "1 Ich hörte ihm zu\n",
      "2 Bekam dann Schlaganfälle\n",
      "3 Jetzt ist endlich Ruh'\n"
     ]
    }
   ],
   "source": [
    "z1 = \"Ich hörte ihm zu\"\n",
    "z2 = \"Bekam dann Schlaganfälle\"\n",
    "z3 = \"Jetzt ist endlich Ruh'\"\n",
    "haiku = [z1, z2, z3]\n",
    "for i in range(len(haiku)):\n",
    "    print(i + 1, haiku[i])"
   ]
  },
  {
   "cell_type": "markdown",
   "id": "6799abb6",
   "metadata": {},
   "source": [
    "Aufgabe 4"
   ]
  },
  {
   "cell_type": "markdown",
   "id": "a05afecb",
   "metadata": {},
   "source": [
    "### Blatt 2"
   ]
  },
  {
   "cell_type": "markdown",
   "id": "0b2e77c9",
   "metadata": {},
   "source": [
    "Aufgabe 1"
   ]
  },
  {
   "cell_type": "markdown",
   "id": "53b5ab4b",
   "metadata": {},
   "source": [
    "### Blatt 3"
   ]
  },
  {
   "cell_type": "markdown",
   "id": "098eabf0",
   "metadata": {},
   "source": [
    "### Blatt 4"
   ]
  },
  {
   "cell_type": "markdown",
   "id": "bffe7eb3",
   "metadata": {},
   "source": [
    "### Blatt 5"
   ]
  },
  {
   "cell_type": "code",
   "execution_count": null,
   "id": "88ac2276",
   "metadata": {},
   "outputs": [],
   "source": []
  }
 ],
 "metadata": {
  "kernelspec": {
   "display_name": "Python 3 (ipykernel)",
   "language": "python",
   "name": "python3"
  },
  "language_info": {
   "codemirror_mode": {
    "name": "ipython",
    "version": 3
   },
   "file_extension": ".py",
   "mimetype": "text/x-python",
   "name": "python",
   "nbconvert_exporter": "python",
   "pygments_lexer": "ipython3",
   "version": "3.9.7"
  }
 },
 "nbformat": 4,
 "nbformat_minor": 5
}
